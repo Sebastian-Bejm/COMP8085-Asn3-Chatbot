{
 "cells": [
  {
   "cell_type": "code",
   "execution_count": 2,
   "metadata": {},
   "outputs": [],
   "source": [
    "from ChatBot import *\n",
    "\n",
    "dataset = load_dataset(\"dataset.csv\")\n",
    "desc, precaution, severity = load_symptom_files()"
   ]
  },
  {
   "cell_type": "code",
   "execution_count": 23,
   "metadata": {
    "scrolled": true
   },
   "outputs": [
    {
     "name": "stdout",
     "output_type": "stream",
     "text": [
      "avoid open cuts\n",
      "wear ppe if possible\n",
      "consult doctor\n",
      "follow up\n"
     ]
    }
   ],
   "source": [
    "for col in precaution[precaution[0] == \"AIDS\"].iloc[0][1:]:\n",
    "    print(col)"
   ]
  },
  {
   "cell_type": "code",
   "execution_count": 3,
   "metadata": {},
   "outputs": [
    {
     "data": {
      "text/html": [
       "<div>\n",
       "<style scoped>\n",
       "    .dataframe tbody tr th:only-of-type {\n",
       "        vertical-align: middle;\n",
       "    }\n",
       "\n",
       "    .dataframe tbody tr th {\n",
       "        vertical-align: top;\n",
       "    }\n",
       "\n",
       "    .dataframe thead th {\n",
       "        text-align: right;\n",
       "    }\n",
       "</style>\n",
       "<table border=\"1\" class=\"dataframe\">\n",
       "  <thead>\n",
       "    <tr style=\"text-align: right;\">\n",
       "      <th></th>\n",
       "      <th>0</th>\n",
       "      <th>1</th>\n",
       "    </tr>\n",
       "  </thead>\n",
       "  <tbody>\n",
       "    <tr>\n",
       "      <th>45</th>\n",
       "      <td>fluid_overload</td>\n",
       "      <td>6</td>\n",
       "    </tr>\n",
       "    <tr>\n",
       "      <th>117</th>\n",
       "      <td>fluid_overload</td>\n",
       "      <td>4</td>\n",
       "    </tr>\n",
       "  </tbody>\n",
       "</table>\n",
       "</div>"
      ],
      "text/plain": [
       "                  0  1\n",
       "45   fluid_overload  6\n",
       "117  fluid_overload  4"
      ]
     },
     "execution_count": 3,
     "metadata": {},
     "output_type": "execute_result"
    }
   ],
   "source": [
    "severity[severity[0] == \"fluid_overload\"]"
   ]
  },
  {
   "cell_type": "code",
   "execution_count": 6,
   "metadata": {},
   "outputs": [],
   "source": [
    "severity = severity.drop(45)"
   ]
  },
  {
   "cell_type": "code",
   "execution_count": 7,
   "metadata": {},
   "outputs": [
    {
     "data": {
      "text/html": [
       "<div>\n",
       "<style scoped>\n",
       "    .dataframe tbody tr th:only-of-type {\n",
       "        vertical-align: middle;\n",
       "    }\n",
       "\n",
       "    .dataframe tbody tr th {\n",
       "        vertical-align: top;\n",
       "    }\n",
       "\n",
       "    .dataframe thead th {\n",
       "        text-align: right;\n",
       "    }\n",
       "</style>\n",
       "<table border=\"1\" class=\"dataframe\">\n",
       "  <thead>\n",
       "    <tr style=\"text-align: right;\">\n",
       "      <th></th>\n",
       "      <th>0</th>\n",
       "      <th>1</th>\n",
       "    </tr>\n",
       "  </thead>\n",
       "  <tbody>\n",
       "    <tr>\n",
       "      <th>117</th>\n",
       "      <td>fluid_overload</td>\n",
       "      <td>4</td>\n",
       "    </tr>\n",
       "  </tbody>\n",
       "</table>\n",
       "</div>"
      ],
      "text/plain": [
       "                  0  1\n",
       "117  fluid_overload  4"
      ]
     },
     "execution_count": 7,
     "metadata": {},
     "output_type": "execute_result"
    }
   ],
   "source": [
    "severity[severity[0] == \"fluid_overload\"]"
   ]
  },
  {
   "cell_type": "code",
   "execution_count": null,
   "metadata": {},
   "outputs": [],
   "source": [
    "bot = BayesianAI()\n",
    "bot.build_model(dataset, desc, precaution, severity)"
   ]
  },
  {
   "cell_type": "code",
   "execution_count": 13,
   "metadata": {},
   "outputs": [
    {
     "data": {
      "text/plain": [
       "0.024390243902439025"
      ]
     },
     "execution_count": 13,
     "metadata": {},
     "output_type": "execute_result"
    }
   ],
   "source": [
    "bot.disease_prob_dist[\"AIDS\"]"
   ]
  },
  {
   "cell_type": "code",
   "execution_count": 11,
   "metadata": {},
   "outputs": [
    {
     "data": {
      "text/plain": [
       "0.2465753424657534"
      ]
     },
     "execution_count": 11,
     "metadata": {},
     "output_type": "execute_result"
    }
   ],
   "source": [
    "bot.disease_symptom_joint_prob_dist[\"muscle_wasting\", \"AIDS\"]"
   ]
  },
  {
   "cell_type": "code",
   "execution_count": 9,
   "metadata": {},
   "outputs": [
    {
     "name": "stdout",
     "output_type": "stream",
     "text": [
      "h\n",
      "Sum probability for category Fungal infection should sum to 1. The actual summation is equal to 1.0.\n",
      "h\n",
      "Sum probability for category Allergy should sum to 1. The actual summation is equal to 1.0.\n",
      "h\n",
      "Sum probability for category GERD should sum to 1. The actual summation is equal to 1.0.\n",
      "h\n",
      "Sum probability for category Chronic cholestasis should sum to 1. The actual summation is equal to 0.9999999999999998.\n",
      "h\n",
      "Sum probability for category Drug Reaction should sum to 1. The actual summation is equal to 0.9999999999999999.\n",
      "h\n",
      "Sum probability for category Peptic ulcer diseae should sum to 1. The actual summation is equal to 1.0000000000000002.\n",
      "h\n",
      "Sum probability for category AIDS should sum to 1. The actual summation is equal to 0.9999999999999999.\n",
      "h\n",
      "Sum probability for category Diabetes  should sum to 1. The actual summation is equal to 1.0.\n",
      "h\n",
      "Sum probability for category Gastroenteritis should sum to 1. The actual summation is equal to 1.0.\n",
      "h\n",
      "Sum probability for category Bronchial Asthma should sum to 1. The actual summation is equal to 1.0000000000000002.\n",
      "h\n",
      "Sum probability for category Hypertension  should sum to 1. The actual summation is equal to 1.0.\n",
      "h\n",
      "Sum probability for category Migraine should sum to 1. The actual summation is equal to 1.0000000000000002.\n",
      "h\n",
      "Sum probability for category Cervical spondylosis should sum to 1. The actual summation is equal to 1.0.\n",
      "h\n",
      "Sum probability for category Paralysis (brain hemorrhage) should sum to 1. The actual summation is equal to 1.0.\n",
      "h\n",
      "Sum probability for category Jaundice should sum to 1. The actual summation is equal to 1.0.\n",
      "h\n",
      "Sum probability for category Malaria should sum to 1. The actual summation is equal to 1.0.\n",
      "h\n",
      "Sum probability for category Chicken pox should sum to 1. The actual summation is equal to 1.0000000000000002.\n",
      "h\n",
      "Sum probability for category Dengue should sum to 1. The actual summation is equal to 0.9999999999999999.\n",
      "h\n",
      "Sum probability for category Typhoid should sum to 1. The actual summation is equal to 1.0.\n",
      "h\n",
      "Sum probability for category hepatitis A should sum to 1. The actual summation is equal to 1.0.\n",
      "h\n",
      "Sum probability for category Hepatitis B should sum to 1. The actual summation is equal to 1.0.\n",
      "h\n",
      "Sum probability for category Hepatitis C should sum to 1. The actual summation is equal to 1.0.\n",
      "h\n",
      "Sum probability for category Hepatitis D should sum to 1. The actual summation is equal to 1.0000000000000002.\n",
      "h\n",
      "Sum probability for category Hepatitis E should sum to 1. The actual summation is equal to 0.9999999999999998.\n",
      "h\n",
      "Sum probability for category Alcoholic hepatitis should sum to 1. The actual summation is equal to 0.9999999999999998.\n",
      "h\n",
      "Sum probability for category Tuberculosis should sum to 1. The actual summation is equal to 1.0.\n",
      "h\n",
      "Sum probability for category Common Cold should sum to 1. The actual summation is equal to 0.9999999999999999.\n",
      "h\n",
      "Sum probability for category Pneumonia should sum to 1. The actual summation is equal to 1.0.\n",
      "h\n",
      "Sum probability for category Dimorphic hemmorhoids(piles) should sum to 1. The actual summation is equal to 1.0.\n",
      "h\n",
      "Sum probability for category Heart attack should sum to 1. The actual summation is equal to 1.0.\n",
      "h\n",
      "Sum probability for category Varicose veins should sum to 1. The actual summation is equal to 1.0.\n",
      "h\n",
      "Sum probability for category Hypothyroidism should sum to 1. The actual summation is equal to 0.9999999999999998.\n",
      "h\n",
      "Sum probability for category Hyperthyroidism should sum to 1. The actual summation is equal to 1.0.\n",
      "h\n",
      "Sum probability for category Hypoglycemia should sum to 1. The actual summation is equal to 1.0.\n",
      "h\n",
      "Sum probability for category Osteoarthristis should sum to 1. The actual summation is equal to 0.9999999999999999.\n",
      "h\n",
      "Sum probability for category Arthritis should sum to 1. The actual summation is equal to 1.0.\n",
      "h\n",
      "Sum probability for category (vertigo) Paroymsal  Positional Vertigo should sum to 1. The actual summation is equal to 1.0.\n",
      "h\n",
      "Sum probability for category Acne should sum to 1. The actual summation is equal to 1.0.\n",
      "h\n",
      "Sum probability for category Urinary tract infection should sum to 1. The actual summation is equal to 1.0.\n",
      "h\n",
      "Sum probability for category Psoriasis should sum to 1. The actual summation is equal to 0.9999999999999999.\n",
      "h\n",
      "Sum probability for category Impetigo should sum to 1. The actual summation is equal to 1.0.\n"
     ]
    }
   ],
   "source": [
    "# each column must add up to 1, not the whole joint prob dist\n",
    "# while it's true that a standard joint prob dist (seen in lects and online) have all the fields add up to 1,\n",
    "# for this case it's different. We want to know the probability of a word given that category\n",
    "# e.g P(\"you\" | Category=ham), which means we need to know the probability where the sample space\n",
    "# is limited to each category => hence sum of each category needs to be 1\n",
    "\n",
    "for c in bot.disease_symptom_joint_prob_dist.values('Disease'):\n",
    "    print(\"h\")\n",
    "    print(\"Sum probability for category {} should sum to 1. The actual summation is equal to {}.\".format(\n",
    "        c, sum((bot.disease_symptom_joint_prob_dist[w, c] for w in bot.disease_symptom_joint_prob_dist.values('Symptom')))))"
   ]
  },
  {
   "cell_type": "code",
   "execution_count": null,
   "metadata": {},
   "outputs": [],
   "source": []
  }
 ],
 "metadata": {
  "kernelspec": {
   "display_name": "Python 3",
   "language": "python",
   "name": "python3"
  },
  "language_info": {
   "codemirror_mode": {
    "name": "ipython",
    "version": 3
   },
   "file_extension": ".py",
   "mimetype": "text/x-python",
   "name": "python",
   "nbconvert_exporter": "python",
   "pygments_lexer": "ipython3",
   "version": "3.8.3"
  }
 },
 "nbformat": 4,
 "nbformat_minor": 4
}
